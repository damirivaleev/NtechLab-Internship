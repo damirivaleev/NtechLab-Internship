{
  "nbformat": 4,
  "nbformat_minor": 0,
  "metadata": {
    "colab": {
      "name": "Все подряд.ipynb",
      "provenance": []
    },
    "kernelspec": {
      "name": "python3",
      "display_name": "Python 3"
    }
  },
  "cells": [
    {
      "cell_type": "code",
      "metadata": {
        "id": "xvBB5Dk2Jjpo",
        "colab_type": "code",
        "colab": {}
      },
      "source": [
        "def findMaxSubArray(a):\n",
        "    sum = min(a)\n",
        "    start = 0\n",
        "    current_sum = min(a)\n",
        "    for index, x in enumerate(a):\n",
        "        if current_sum <= 0:\n",
        "            start = index\n",
        "            current_sum = x\n",
        "        else:\n",
        "            current_sum += x\n",
        "\n",
        "        if current_sum > sum:\n",
        "            sum = current_sum\n",
        "            i = start\n",
        "            j = index\n",
        "    return a[i:j + 1]"
      ],
      "execution_count": 1,
      "outputs": []
    },
    {
      "cell_type": "code",
      "metadata": {
        "id": "--2gYWKz4K_T",
        "colab_type": "code",
        "colab": {
          "base_uri": "https://localhost:8080/",
          "height": 34
        },
        "outputId": "4c791b2a-50a5-45d9-d4f9-32c3f9c17505"
      },
      "source": [
        "findMaxSubArray([-2, 1, -3, 4, -1, 2, 1, -5, 4])"
      ],
      "execution_count": 2,
      "outputs": [
        {
          "output_type": "execute_result",
          "data": {
            "text/plain": [
              "[4, -1, 2, 1]"
            ]
          },
          "metadata": {
            "tags": []
          },
          "execution_count": 2
        }
      ]
    },
    {
      "cell_type": "code",
      "metadata": {
        "id": "1IQkgrlrGfTO",
        "colab_type": "code",
        "colab": {
          "base_uri": "https://localhost:8080/",
          "height": 34
        },
        "outputId": "e137c5f1-933b-4a42-c0bf-21a2488a0679"
      },
      "source": [
        "findMaxSubArray([-2, -3, -1, -5])"
      ],
      "execution_count": 3,
      "outputs": [
        {
          "output_type": "execute_result",
          "data": {
            "text/plain": [
              "[-1]"
            ]
          },
          "metadata": {
            "tags": []
          },
          "execution_count": 3
        }
      ]
    },
    {
      "cell_type": "code",
      "metadata": {
        "id": "DFpk46bzGxjU",
        "colab_type": "code",
        "colab": {
          "base_uri": "https://localhost:8080/",
          "height": 34
        },
        "outputId": "55f21f68-c857-47a1-cb99-53ec99193312"
      },
      "source": [
        "findMaxSubArray([2, 3, 1, 5])"
      ],
      "execution_count": 4,
      "outputs": [
        {
          "output_type": "execute_result",
          "data": {
            "text/plain": [
              "[2, 3, 1, 5]"
            ]
          },
          "metadata": {
            "tags": []
          },
          "execution_count": 4
        }
      ]
    }
  ]
}