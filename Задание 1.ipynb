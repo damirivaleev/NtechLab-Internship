{
  "nbformat": 4,
  "nbformat_minor": 0,
  "metadata": {
    "colab": {
      "name": "Все подряд.ipynb",
      "provenance": []
    },
    "kernelspec": {
      "name": "python3",
      "display_name": "Python 3"
    }
  },
  "cells": [
    {
      "cell_type": "code",
      "metadata": {
        "id": "lctos8wuussl",
        "colab_type": "code",
        "colab": {}
      },
      "source": [
        "def findMaxSubArray(a):\n",
        "    max = min(a)\n",
        "    for i, x in enumerate(a):\n",
        "        for j in range(1, len(a) - i + 1):\n",
        "            if sum(a[i:i + j]) >= max:\n",
        "                res = a[i:i + j]\n",
        "                max = sum(res)\n",
        "\n",
        "    return res"
      ],
      "execution_count": 14,
      "outputs": []
    },
    {
      "cell_type": "code",
      "metadata": {
        "id": "1wDcV2r3wJcs",
        "colab_type": "code",
        "colab": {
          "base_uri": "https://localhost:8080/",
          "height": 34
        },
        "outputId": "91a372c1-fb1d-4333-8f23-e853b26c5a05"
      },
      "source": [
        "findMaxSubArray([-2,1,-3,4,-1,2,1,-5,4])"
      ],
      "execution_count": 15,
      "outputs": [
        {
          "output_type": "execute_result",
          "data": {
            "text/plain": [
              "[4, -1, 2, 1]"
            ]
          },
          "metadata": {
            "tags": []
          },
          "execution_count": 15
        }
      ]
    }
  ]
}