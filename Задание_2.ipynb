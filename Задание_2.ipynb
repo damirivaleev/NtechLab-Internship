{
  "nbformat": 4,
  "nbformat_minor": 0,
  "metadata": {
    "kernelspec": {
      "display_name": "Python 3",
      "language": "python",
      "name": "python3"
    },
    "language_info": {
      "codemirror_mode": {
        "name": "ipython",
        "version": 3
      },
      "file_extension": ".py",
      "mimetype": "text/x-python",
      "name": "python",
      "nbconvert_exporter": "python",
      "pygments_lexer": "ipython3",
      "version": "3.7.1"
    },
    "colab": {
      "name": "Задание 2 resnet18.ipynb",
      "provenance": []
    },
    "accelerator": "GPU"
  },
  "cells": [
    {
      "cell_type": "markdown",
      "metadata": {
        "id": "wmEotykXyTTj",
        "colab_type": "text"
      },
      "source": [
        "# Использовал Google Colab для обучения, поэтому нужно подключить диск с датасетом"
      ]
    },
    {
      "cell_type": "code",
      "metadata": {
        "id": "ZduFlOVCc1wI",
        "colab_type": "code",
        "colab": {
          "base_uri": "https://localhost:8080/",
          "height": 34
        },
        "outputId": "eae97775-c0c7-44c8-df28-dd5ad0265523"
      },
      "source": [
        "from google.colab import drive\n",
        "drive.mount('/content/drive', force_remount=True)"
      ],
      "execution_count": 1,
      "outputs": [
        {
          "output_type": "stream",
          "text": [
            "Mounted at /content/drive\n"
          ],
          "name": "stdout"
        }
      ]
    },
    {
      "cell_type": "code",
      "metadata": {
        "id": "tkjssPo_dKqv",
        "colab_type": "code",
        "colab": {}
      },
      "source": [
        "root_dir = 'drive/My Drive/NtechLab-Internship/internship_data'"
      ],
      "execution_count": 2,
      "outputs": []
    },
    {
      "cell_type": "markdown",
      "metadata": {
        "id": "RUxSu2Vqypqk",
        "colab_type": "text"
      },
      "source": [
        "# Импортируем библиотеки"
      ]
    },
    {
      "cell_type": "code",
      "metadata": {
        "id": "Eweya9rVc0hz",
        "colab_type": "code",
        "colab": {
          "base_uri": "https://localhost:8080/",
          "height": 71
        },
        "outputId": "62a2ae35-3395-49c7-d56f-ef6975f032a4"
      },
      "source": [
        "import torch\n",
        "import torchvision\n",
        "from torchvision import transforms, models\n",
        "import PIL\n",
        "import matplotlib.pyplot as plt\n",
        "import random\n",
        "import numpy as np\n",
        "from tqdm import tqdm\n",
        "from sklearn.metrics import roc_auc_score\n",
        "import matplotlib.pyplot as plt\n",
        "import seaborn as sns\n",
        "from sklearn.metrics import classification_report"
      ],
      "execution_count": 3,
      "outputs": [
        {
          "output_type": "stream",
          "text": [
            "/usr/local/lib/python3.6/dist-packages/statsmodels/tools/_testing.py:19: FutureWarning: pandas.util.testing is deprecated. Use the functions in the public API at pandas.testing instead.\n",
            "  import pandas.util.testing as tm\n"
          ],
          "name": "stderr"
        }
      ]
    },
    {
      "cell_type": "markdown",
      "metadata": {
        "id": "s58lz0FpzF28",
        "colab_type": "text"
      },
      "source": [
        "# Инициализация начальных значений генераторов случайных чисел для воспроизводимости результатов"
      ]
    },
    {
      "cell_type": "code",
      "metadata": {
        "id": "4RzMstzvc0h3",
        "colab_type": "code",
        "colab": {}
      },
      "source": [
        "seed = 0\n",
        "random.seed(seed)\n",
        "np.random.seed(seed)\n",
        "torch.manual_seed(seed)\n",
        "torch.cuda.manual_seed(seed)\n",
        "torch.backends.cudnn.deterministic = True"
      ],
      "execution_count": 4,
      "outputs": []
    },
    {
      "cell_type": "markdown",
      "metadata": {
        "id": "XCeJztUeIdaB",
        "colab_type": "text"
      },
      "source": [
        "# Преобразования данных для тренировочного и тестового наборов"
      ]
    },
    {
      "cell_type": "code",
      "metadata": {
        "id": "HGRp8kaWwjRG",
        "colab_type": "code",
        "colab": {}
      },
      "source": [
        "train_transforms = transforms.Compose([\n",
        "    transforms.Resize((224, 224)),\n",
        "    transforms.RandomHorizontalFlip(p=0.25),\n",
        "    transforms.ToTensor(),\n",
        "    transforms.Normalize([0.485, 0.456, 0.406], [0.229, 0.224, 0.225]),\n",
        "])"
      ],
      "execution_count": 5,
      "outputs": []
    },
    {
      "cell_type": "code",
      "metadata": {
        "id": "k7U3bNQCc0h6",
        "colab_type": "code",
        "colab": {}
      },
      "source": [
        "test_transforms = transforms.Compose([\n",
        "    transforms.Resize((224, 224)),\n",
        "    transforms.ToTensor(),\n",
        "    transforms.Normalize([0.485, 0.456, 0.406], [0.229, 0.224, 0.225]),\n",
        "])"
      ],
      "execution_count": 6,
      "outputs": []
    },
    {
      "cell_type": "markdown",
      "metadata": {
        "id": "vH8MJCRdLkf_",
        "colab_type": "text"
      },
      "source": [
        "# Создание датасетов из папок с изображениями"
      ]
    },
    {
      "cell_type": "code",
      "metadata": {
        "id": "oTK0PVM4c0h8",
        "colab_type": "code",
        "colab": {}
      },
      "source": [
        "train_dataset = torchvision.datasets.ImageFolder(root_dir + '/train', transform=train_transforms)"
      ],
      "execution_count": 8,
      "outputs": []
    },
    {
      "cell_type": "code",
      "metadata": {
        "id": "0hTxV4xjs-6x",
        "colab_type": "code",
        "colab": {}
      },
      "source": [
        "test_dataset = torchvision.datasets.ImageFolder(root_dir + '/test', transform=test_transforms)"
      ],
      "execution_count": 9,
      "outputs": []
    },
    {
      "cell_type": "code",
      "metadata": {
        "id": "My7AZT-Uc0iB",
        "colab_type": "code",
        "colab": {
          "base_uri": "https://localhost:8080/",
          "height": 34
        },
        "outputId": "87639c9e-a64c-4ecb-a013-ad3356ce69a8"
      },
      "source": [
        "len(train_dataset), len(test_dataset)"
      ],
      "execution_count": 10,
      "outputs": [
        {
          "output_type": "execute_result",
          "data": {
            "text/plain": [
              "(90004, 10005)"
            ]
          },
          "metadata": {
            "tags": []
          },
          "execution_count": 10
        }
      ]
    },
    {
      "cell_type": "markdown",
      "metadata": {
        "id": "CaUOYpSoLs4t",
        "colab_type": "text"
      },
      "source": [
        "# Загрузчики данных"
      ]
    },
    {
      "cell_type": "code",
      "metadata": {
        "id": "tSBCgw_zc0h-",
        "colab_type": "code",
        "colab": {}
      },
      "source": [
        "BATCH_SIZE = 32\n",
        "train_dataloader = torch.utils.data.DataLoader(train_dataset, batch_size=BATCH_SIZE, shuffle=True, drop_last=True, num_workers=BATCH_SIZE)"
      ],
      "execution_count": 11,
      "outputs": []
    },
    {
      "cell_type": "code",
      "metadata": {
        "id": "2V8XrXJ3tWGU",
        "colab_type": "code",
        "colab": {}
      },
      "source": [
        "test_dataloader = torch.utils.data.DataLoader(test_dataset, batch_size=BATCH_SIZE, shuffle=True, drop_last=True, num_workers=BATCH_SIZE)"
      ],
      "execution_count": 12,
      "outputs": []
    },
    {
      "cell_type": "markdown",
      "metadata": {
        "id": "0d2FJxYxMWdO",
        "colab_type": "text"
      },
      "source": [
        "# Функция обучения"
      ]
    },
    {
      "cell_type": "code",
      "metadata": {
        "id": "2346Mitoc0iH",
        "colab_type": "code",
        "colab": {}
      },
      "source": [
        "class EarlyStopping(Exception): pass\n",
        "\n",
        "def train_model(model, loss, optimizer, scheduler, num_epochs=100, best_loss=np.inf):\n",
        "    #Добавлен механизм, ранней остановки для 10 эпох\n",
        "    max_early_stopping_epochs = 10\n",
        "    early_stopping_epochs = 0\n",
        "    \n",
        "    train_loss = []\n",
        "    train_acc = []\n",
        "\n",
        "    test_loss = []\n",
        "    test_acc = []\n",
        "\n",
        "    try:\n",
        "        for epoch in range(num_epochs):\n",
        "            print('Epoch {}/{}:'.format(epoch, num_epochs - 1))\n",
        "\n",
        "            # Каждая эпоха имеет тренировочную и тестовую фазу\n",
        "            for phase in ['train', 'test']:\n",
        "                if phase == 'train':\n",
        "                    dataloader = train_dataloader\n",
        "                    model.train()  # Установка модели в режим тренировки\n",
        "                else:\n",
        "                    dataloader = test_dataloader\n",
        "                    model.eval()   # Установка модели в режим тестирования\n",
        "\n",
        "                # Подсчет значений потери и метрики в течение эпохи\n",
        "                running_loss = 0.\n",
        "                running_acc = 0.\n",
        "                \n",
        "                # Проход по датасету\n",
        "                for inputs, labels in tqdm(dataloader, position=0, leave=True):\n",
        "                    inputs = inputs.to(device)\n",
        "                    labels = labels.to(device)\n",
        "\n",
        "                    optimizer.zero_grad()   # Обнуление градиентов, по умолчанию в pytorch они накапливаются\n",
        "\n",
        "                    # Если обучение, включен подсчет градиентов\n",
        "                    with torch.set_grad_enabled(phase == 'train'):\n",
        "                        preds = model(inputs)\n",
        "                        loss_value = loss(preds, labels)\n",
        "                        preds_class = preds.argmax(dim=1)   # Поскольку функция потерь кросс-энтропия, не обязательно считать softmax, можно взять класс с наибольшим значением\n",
        "                        \n",
        "                        # Подсчет градиент и шаг градиентного спуска при обучении\n",
        "                        if phase == 'train':\n",
        "                            loss_value.backward()\n",
        "                            optimizer.step()\n",
        "                            \n",
        "                    running_loss += loss_value.item()\n",
        "                    running_acc += (preds_class == labels.data).float().mean()\n",
        "                    \n",
        "                # Вычисление потери и метрики по всей эпохе\n",
        "                epoch_loss = running_loss / len(dataloader)\n",
        "                epoch_acc = running_acc / len(dataloader)\n",
        "\n",
        "                print('\\n{} Loss: {:.4f} Acc: {:.4f}'.format(phase, epoch_loss, epoch_acc))\n",
        "                if phase == 'train':\n",
        "                    train_loss.append(epoch_loss)\n",
        "                    train_acc.append(epoch_acc)                \n",
        "                else:\n",
        "                    test_loss.append(epoch_loss)\n",
        "                    test_acc.append(epoch_acc)\n",
        "                    scheduler.step(epoch_loss)  # Снижение шага градиентного спуска, если модель не улучшается\n",
        "\n",
        "                    # Если модель улучшилась, сохраняем\n",
        "                    if epoch_loss < best_loss:\n",
        "                        best_model = model\n",
        "                        torch.save(best_model, root_dir + '/best_model.pt')\n",
        "                        best_loss = epoch_loss\n",
        "                        early_stopping_epochs = 0\n",
        "                        print('\\nНовая лучшая модель!')\n",
        "                    else:\n",
        "                        early_stopping_epochs += 1\n",
        "                        # Если достигнуто максимальное количество эпох для ранней остановки, вызывается исключение\n",
        "                        if early_stopping_epochs == max_early_stopping_epochs:\n",
        "                            raise EarlyStopping\n",
        "                            \n",
        "    except EarlyStopping:\n",
        "        print('За {} эпох модель не улучшилась\\nРанняя остановка!'.format(max_early_stopping_epochs))\n",
        "\n",
        "    except KeyboardInterrupt:\n",
        "        print('Обучение остановлено пользователем.')\n",
        "    \n",
        "    except Exception as e:\n",
        "        print(e)\n",
        "\n",
        "    # Возвращаем значения функции потерь и метрики при обучении\n",
        "    finally:\n",
        "        return {'train_loss': train_loss,\n",
        "                'train_acc': train_acc,\n",
        "                'test_loss': test_loss,\n",
        "                'test_acc': test_acc}"
      ],
      "execution_count": 13,
      "outputs": []
    },
    {
      "cell_type": "markdown",
      "metadata": {
        "id": "BB9VbU5ZMa1h",
        "colab_type": "text"
      },
      "source": [
        "# Модель"
      ]
    },
    {
      "cell_type": "code",
      "metadata": {
        "id": "mc89sFV7c0iJ",
        "colab_type": "code",
        "colab": {}
      },
      "source": [
        "model = models.resnet18(pretrained=False)\n",
        "#model = torch.load(root_dir + '/best_model.pt')\n",
        "model.fc = torch.nn.Linear(model.fc.in_features, 2)"
      ],
      "execution_count": 14,
      "outputs": []
    },
    {
      "cell_type": "code",
      "metadata": {
        "id": "p1X8FrAFlsQH",
        "colab_type": "code",
        "colab": {}
      },
      "source": [
        "device = torch.device(\"cuda:0\" if torch.cuda.is_available() else \"cpu\")\n",
        "model = model.to(device)\n",
        "\n",
        "loss = torch.nn.CrossEntropyLoss()\n",
        "optimizer = torch.optim.Adam(model.parameters(), lr=1.0e-3)\n",
        "\n",
        "# Снижение шага обучения в 2 раза, если 5 эпох нет улучшений\n",
        "scheduler = torch.optim.lr_scheduler.ReduceLROnPlateau(optimizer, patience=5, factor=0.5, verbose=True)"
      ],
      "execution_count": 15,
      "outputs": []
    },
    {
      "cell_type": "code",
      "metadata": {
        "id": "ppTJ_p_3lrfA",
        "colab_type": "code",
        "colab": {
          "base_uri": "https://localhost:8080/",
          "height": 51
        },
        "outputId": "c2972e10-8610-4c01-afa8-657231f26d53"
      },
      "source": [
        "# Подсчет значения функции потерь при загрузке модели при нескольких этапах дообучения\n",
        "last_loss = 0\n",
        "\n",
        "for batch, labels in tqdm(test_dataloader, position=0, leave=True):    \n",
        "    last_loss += loss(model(batch.to(device)), labels.to(device)).item()\n",
        "\n",
        "last_loss /= len(test_dataloader)\n",
        "last_loss"
      ],
      "execution_count": 16,
      "outputs": [
        {
          "output_type": "stream",
          "text": [
            "100%|██████████| 312/312 [05:42<00:00,  1.10s/it]\n"
          ],
          "name": "stderr"
        },
        {
          "output_type": "execute_result",
          "data": {
            "text/plain": [
              "0.702844001734868"
            ]
          },
          "metadata": {
            "tags": []
          },
          "execution_count": 16
        }
      ]
    },
    {
      "cell_type": "markdown",
      "metadata": {
        "id": "Q1joguhpMh6U",
        "colab_type": "text"
      },
      "source": [
        "# Обучение модели"
      ]
    },
    {
      "cell_type": "code",
      "metadata": {
        "id": "TQcqjYPnc0iL",
        "colab_type": "code",
        "colab": {
          "base_uri": "https://localhost:8080/",
          "height": 1000
        },
        "outputId": "c3e04799-5e49-4330-e1ac-ac77d9d5f934"
      },
      "source": [
        "history = train_model(model, loss, optimizer, scheduler, num_epochs=100, best_loss=last_loss)"
      ],
      "execution_count": 17,
      "outputs": [
        {
          "output_type": "stream",
          "text": [
            "\r  0%|          | 0/2812 [00:00<?, ?it/s]"
          ],
          "name": "stderr"
        },
        {
          "output_type": "stream",
          "text": [
            "Epoch 0/99:\n"
          ],
          "name": "stdout"
        },
        {
          "output_type": "stream",
          "text": [
            "100%|██████████| 2812/2812 [54:50<00:00,  1.17s/it]\n",
            "  0%|          | 0/312 [00:00<?, ?it/s]"
          ],
          "name": "stderr"
        },
        {
          "output_type": "stream",
          "text": [
            "\n",
            "train Loss: 0.2011 Acc: 0.9163\n"
          ],
          "name": "stdout"
        },
        {
          "output_type": "stream",
          "text": [
            "100%|██████████| 312/312 [00:53<00:00,  5.86it/s]\n"
          ],
          "name": "stderr"
        },
        {
          "output_type": "stream",
          "text": [
            "\n",
            "test Loss: 0.1026 Acc: 0.9617\n"
          ],
          "name": "stdout"
        },
        {
          "output_type": "stream",
          "text": [
            "\r  0%|          | 0/2812 [00:00<?, ?it/s]"
          ],
          "name": "stderr"
        },
        {
          "output_type": "stream",
          "text": [
            "\n",
            "Новая лучшая модель!\n",
            "Epoch 1/99:\n"
          ],
          "name": "stdout"
        },
        {
          "output_type": "stream",
          "text": [
            "100%|██████████| 2812/2812 [17:24<00:00,  2.69it/s]\n",
            "  0%|          | 0/312 [00:00<?, ?it/s]"
          ],
          "name": "stderr"
        },
        {
          "output_type": "stream",
          "text": [
            "\n",
            "train Loss: 0.1089 Acc: 0.9587\n"
          ],
          "name": "stdout"
        },
        {
          "output_type": "stream",
          "text": [
            "100%|██████████| 312/312 [00:53<00:00,  5.85it/s]\n",
            "  0%|          | 0/2812 [00:00<?, ?it/s]"
          ],
          "name": "stderr"
        },
        {
          "output_type": "stream",
          "text": [
            "\n",
            "test Loss: 0.1098 Acc: 0.9566\n",
            "Epoch 2/99:\n"
          ],
          "name": "stdout"
        },
        {
          "output_type": "stream",
          "text": [
            "100%|██████████| 2812/2812 [17:20<00:00,  2.70it/s]\n",
            "  0%|          | 0/312 [00:00<?, ?it/s]"
          ],
          "name": "stderr"
        },
        {
          "output_type": "stream",
          "text": [
            "\n",
            "train Loss: 0.0870 Acc: 0.9675\n"
          ],
          "name": "stdout"
        },
        {
          "output_type": "stream",
          "text": [
            "100%|██████████| 312/312 [00:52<00:00,  5.89it/s]\n"
          ],
          "name": "stderr"
        },
        {
          "output_type": "stream",
          "text": [
            "\n",
            "test Loss: 0.0766 Acc: 0.9715\n"
          ],
          "name": "stdout"
        },
        {
          "output_type": "stream",
          "text": [
            "\r  0%|          | 0/2812 [00:00<?, ?it/s]"
          ],
          "name": "stderr"
        },
        {
          "output_type": "stream",
          "text": [
            "\n",
            "Новая лучшая модель!\n",
            "Epoch 3/99:\n"
          ],
          "name": "stdout"
        },
        {
          "output_type": "stream",
          "text": [
            "100%|██████████| 2812/2812 [17:20<00:00,  2.70it/s]\n",
            "  0%|          | 0/312 [00:00<?, ?it/s]"
          ],
          "name": "stderr"
        },
        {
          "output_type": "stream",
          "text": [
            "\n",
            "train Loss: 0.0767 Acc: 0.9719\n"
          ],
          "name": "stdout"
        },
        {
          "output_type": "stream",
          "text": [
            "100%|██████████| 312/312 [00:51<00:00,  6.04it/s]\n"
          ],
          "name": "stderr"
        },
        {
          "output_type": "stream",
          "text": [
            "\n",
            "test Loss: 0.0715 Acc: 0.9716\n"
          ],
          "name": "stdout"
        },
        {
          "output_type": "stream",
          "text": [
            "\r  0%|          | 0/2812 [00:00<?, ?it/s]"
          ],
          "name": "stderr"
        },
        {
          "output_type": "stream",
          "text": [
            "\n",
            "Новая лучшая модель!\n",
            "Epoch 4/99:\n"
          ],
          "name": "stdout"
        },
        {
          "output_type": "stream",
          "text": [
            "100%|██████████| 2812/2812 [17:04<00:00,  2.74it/s]\n",
            "  0%|          | 0/312 [00:00<?, ?it/s]"
          ],
          "name": "stderr"
        },
        {
          "output_type": "stream",
          "text": [
            "\n",
            "train Loss: 0.0668 Acc: 0.9757\n"
          ],
          "name": "stdout"
        },
        {
          "output_type": "stream",
          "text": [
            "100%|██████████| 312/312 [00:51<00:00,  6.09it/s]\n"
          ],
          "name": "stderr"
        },
        {
          "output_type": "stream",
          "text": [
            "\n",
            "test Loss: 0.0684 Acc: 0.9750\n"
          ],
          "name": "stdout"
        },
        {
          "output_type": "stream",
          "text": [
            "\r  0%|          | 0/2812 [00:00<?, ?it/s]"
          ],
          "name": "stderr"
        },
        {
          "output_type": "stream",
          "text": [
            "\n",
            "Новая лучшая модель!\n",
            "Epoch 5/99:\n"
          ],
          "name": "stdout"
        },
        {
          "output_type": "stream",
          "text": [
            "100%|██████████| 2812/2812 [17:11<00:00,  2.73it/s]\n",
            "  0%|          | 0/312 [00:00<?, ?it/s]"
          ],
          "name": "stderr"
        },
        {
          "output_type": "stream",
          "text": [
            "\n",
            "train Loss: 0.0590 Acc: 0.9788\n"
          ],
          "name": "stdout"
        },
        {
          "output_type": "stream",
          "text": [
            "100%|██████████| 312/312 [00:52<00:00,  5.99it/s]\n"
          ],
          "name": "stderr"
        },
        {
          "output_type": "stream",
          "text": [
            "\n",
            "test Loss: 0.0612 Acc: 0.9784\n"
          ],
          "name": "stdout"
        },
        {
          "output_type": "stream",
          "text": [
            "\r  0%|          | 0/2812 [00:00<?, ?it/s]"
          ],
          "name": "stderr"
        },
        {
          "output_type": "stream",
          "text": [
            "\n",
            "Новая лучшая модель!\n",
            "Epoch 6/99:\n"
          ],
          "name": "stdout"
        },
        {
          "output_type": "stream",
          "text": [
            "100%|██████████| 2812/2812 [17:06<00:00,  2.74it/s]\n",
            "  0%|          | 0/312 [00:00<?, ?it/s]"
          ],
          "name": "stderr"
        },
        {
          "output_type": "stream",
          "text": [
            "\n",
            "train Loss: 0.0533 Acc: 0.9806\n"
          ],
          "name": "stdout"
        },
        {
          "output_type": "stream",
          "text": [
            "100%|██████████| 312/312 [00:51<00:00,  6.01it/s]\n"
          ],
          "name": "stderr"
        },
        {
          "output_type": "stream",
          "text": [
            "\n",
            "test Loss: 0.0608 Acc: 0.9789\n"
          ],
          "name": "stdout"
        },
        {
          "output_type": "stream",
          "text": [
            "\r  0%|          | 0/2812 [00:00<?, ?it/s]"
          ],
          "name": "stderr"
        },
        {
          "output_type": "stream",
          "text": [
            "\n",
            "Новая лучшая модель!\n",
            "Epoch 7/99:\n"
          ],
          "name": "stdout"
        },
        {
          "output_type": "stream",
          "text": [
            "100%|██████████| 2812/2812 [17:10<00:00,  2.73it/s]\n",
            "  0%|          | 0/312 [00:00<?, ?it/s]"
          ],
          "name": "stderr"
        },
        {
          "output_type": "stream",
          "text": [
            "\n",
            "train Loss: 0.0466 Acc: 0.9830\n"
          ],
          "name": "stdout"
        },
        {
          "output_type": "stream",
          "text": [
            "100%|██████████| 312/312 [00:52<00:00,  5.96it/s]\n",
            "  0%|          | 0/2812 [00:00<?, ?it/s]"
          ],
          "name": "stderr"
        },
        {
          "output_type": "stream",
          "text": [
            "\n",
            "test Loss: 0.0687 Acc: 0.9738\n",
            "Epoch 8/99:\n"
          ],
          "name": "stdout"
        },
        {
          "output_type": "stream",
          "text": [
            "100%|██████████| 2812/2812 [17:06<00:00,  2.74it/s]\n",
            "  0%|          | 0/312 [00:00<?, ?it/s]"
          ],
          "name": "stderr"
        },
        {
          "output_type": "stream",
          "text": [
            "\n",
            "train Loss: 0.0404 Acc: 0.9853\n"
          ],
          "name": "stdout"
        },
        {
          "output_type": "stream",
          "text": [
            "100%|██████████| 312/312 [00:52<00:00,  6.00it/s]\n",
            "  0%|          | 0/2812 [00:00<?, ?it/s]"
          ],
          "name": "stderr"
        },
        {
          "output_type": "stream",
          "text": [
            "\n",
            "test Loss: 0.0939 Acc: 0.9636\n",
            "Epoch 9/99:\n"
          ],
          "name": "stdout"
        },
        {
          "output_type": "stream",
          "text": [
            "100%|██████████| 2812/2812 [17:11<00:00,  2.73it/s]\n",
            "  0%|          | 0/312 [00:00<?, ?it/s]"
          ],
          "name": "stderr"
        },
        {
          "output_type": "stream",
          "text": [
            "\n",
            "train Loss: 0.0353 Acc: 0.9875\n"
          ],
          "name": "stdout"
        },
        {
          "output_type": "stream",
          "text": [
            "100%|██████████| 312/312 [00:52<00:00,  5.94it/s]\n",
            "  0%|          | 0/2812 [00:00<?, ?it/s]"
          ],
          "name": "stderr"
        },
        {
          "output_type": "stream",
          "text": [
            "\n",
            "test Loss: 0.0648 Acc: 0.9781\n",
            "Epoch 10/99:\n"
          ],
          "name": "stdout"
        },
        {
          "output_type": "stream",
          "text": [
            "100%|██████████| 2812/2812 [17:06<00:00,  2.74it/s]\n",
            "  0%|          | 0/312 [00:00<?, ?it/s]"
          ],
          "name": "stderr"
        },
        {
          "output_type": "stream",
          "text": [
            "\n",
            "train Loss: 0.0320 Acc: 0.9884\n"
          ],
          "name": "stdout"
        },
        {
          "output_type": "stream",
          "text": [
            "100%|██████████| 312/312 [00:51<00:00,  6.00it/s]\n",
            "  0%|          | 0/2812 [00:00<?, ?it/s]"
          ],
          "name": "stderr"
        },
        {
          "output_type": "stream",
          "text": [
            "\n",
            "test Loss: 0.0806 Acc: 0.9726\n",
            "Epoch 11/99:\n"
          ],
          "name": "stdout"
        },
        {
          "output_type": "stream",
          "text": [
            "100%|██████████| 2812/2812 [17:11<00:00,  2.73it/s]\n",
            "  0%|          | 0/312 [00:00<?, ?it/s]"
          ],
          "name": "stderr"
        },
        {
          "output_type": "stream",
          "text": [
            "\n",
            "train Loss: 0.0269 Acc: 0.9904\n"
          ],
          "name": "stdout"
        },
        {
          "output_type": "stream",
          "text": [
            "100%|██████████| 312/312 [00:51<00:00,  6.02it/s]\n",
            "  0%|          | 0/2812 [00:00<?, ?it/s]"
          ],
          "name": "stderr"
        },
        {
          "output_type": "stream",
          "text": [
            "\n",
            "test Loss: 0.0724 Acc: 0.9767\n",
            "Epoch 12/99:\n"
          ],
          "name": "stdout"
        },
        {
          "output_type": "stream",
          "text": [
            "100%|██████████| 2812/2812 [17:07<00:00,  2.74it/s]\n",
            "  0%|          | 0/312 [00:00<?, ?it/s]"
          ],
          "name": "stderr"
        },
        {
          "output_type": "stream",
          "text": [
            "\n",
            "train Loss: 0.0236 Acc: 0.9919\n"
          ],
          "name": "stdout"
        },
        {
          "output_type": "stream",
          "text": [
            "100%|██████████| 312/312 [00:51<00:00,  6.00it/s]\n",
            "  0%|          | 0/2812 [00:00<?, ?it/s]"
          ],
          "name": "stderr"
        },
        {
          "output_type": "stream",
          "text": [
            "\n",
            "test Loss: 0.0735 Acc: 0.9791\n",
            "Epoch    13: reducing learning rate of group 0 to 5.0000e-04.\n",
            "Epoch 13/99:\n"
          ],
          "name": "stdout"
        },
        {
          "output_type": "stream",
          "text": [
            "100%|██████████| 2812/2812 [17:10<00:00,  2.73it/s]\n",
            "  0%|          | 0/312 [00:00<?, ?it/s]"
          ],
          "name": "stderr"
        },
        {
          "output_type": "stream",
          "text": [
            "\n",
            "train Loss: 0.0110 Acc: 0.9962\n"
          ],
          "name": "stdout"
        },
        {
          "output_type": "stream",
          "text": [
            "100%|██████████| 312/312 [00:51<00:00,  6.03it/s]\n",
            "  0%|          | 0/2812 [00:00<?, ?it/s]"
          ],
          "name": "stderr"
        },
        {
          "output_type": "stream",
          "text": [
            "\n",
            "test Loss: 0.0884 Acc: 0.9789\n",
            "Epoch 14/99:\n"
          ],
          "name": "stdout"
        },
        {
          "output_type": "stream",
          "text": [
            "100%|██████████| 2812/2812 [17:04<00:00,  2.74it/s]\n",
            "  0%|          | 0/312 [00:00<?, ?it/s]"
          ],
          "name": "stderr"
        },
        {
          "output_type": "stream",
          "text": [
            "\n",
            "train Loss: 0.0104 Acc: 0.9965\n"
          ],
          "name": "stdout"
        },
        {
          "output_type": "stream",
          "text": [
            "100%|██████████| 312/312 [00:51<00:00,  6.03it/s]\n",
            "  0%|          | 0/2812 [00:00<?, ?it/s]"
          ],
          "name": "stderr"
        },
        {
          "output_type": "stream",
          "text": [
            "\n",
            "test Loss: 0.0777 Acc: 0.9800\n",
            "Epoch 15/99:\n"
          ],
          "name": "stdout"
        },
        {
          "output_type": "stream",
          "text": [
            "100%|██████████| 2812/2812 [17:10<00:00,  2.73it/s]\n",
            "  0%|          | 0/312 [00:00<?, ?it/s]"
          ],
          "name": "stderr"
        },
        {
          "output_type": "stream",
          "text": [
            "\n",
            "train Loss: 0.0084 Acc: 0.9973\n"
          ],
          "name": "stdout"
        },
        {
          "output_type": "stream",
          "text": [
            "100%|██████████| 312/312 [00:51<00:00,  6.11it/s]\n",
            "  0%|          | 0/2812 [00:00<?, ?it/s]"
          ],
          "name": "stderr"
        },
        {
          "output_type": "stream",
          "text": [
            "\n",
            "test Loss: 0.0912 Acc: 0.9751\n",
            "Epoch 16/99:\n"
          ],
          "name": "stdout"
        },
        {
          "output_type": "stream",
          "text": [
            "100%|██████████| 2812/2812 [17:07<00:00,  2.74it/s]\n",
            "  0%|          | 0/312 [00:00<?, ?it/s]"
          ],
          "name": "stderr"
        },
        {
          "output_type": "stream",
          "text": [
            "\n",
            "train Loss: 0.0070 Acc: 0.9977\n"
          ],
          "name": "stdout"
        },
        {
          "output_type": "stream",
          "text": [
            "100%|██████████| 312/312 [00:51<00:00,  6.08it/s]"
          ],
          "name": "stderr"
        },
        {
          "output_type": "stream",
          "text": [
            "\n",
            "test Loss: 0.0950 Acc: 0.9807\n",
            "За 10 эпох модель не улучшилась\n",
            "Ранняя остановка!\n"
          ],
          "name": "stdout"
        },
        {
          "output_type": "stream",
          "text": [
            "\n"
          ],
          "name": "stderr"
        }
      ]
    },
    {
      "cell_type": "markdown",
      "metadata": {
        "id": "40J__keYMnGv",
        "colab_type": "text"
      },
      "source": [
        "# Загрузка лучшей модели"
      ]
    },
    {
      "cell_type": "code",
      "metadata": {
        "id": "r1ojIhifB_Ex",
        "colab_type": "code",
        "colab": {
          "base_uri": "https://localhost:8080/",
          "height": 1000
        },
        "outputId": "ac73fab8-06d1-43ef-9f87-80753959ec6b"
      },
      "source": [
        "finish_model = torch.load(root_dir + '/best_model.pt')\n",
        "finish_model.eval()"
      ],
      "execution_count": 18,
      "outputs": [
        {
          "output_type": "execute_result",
          "data": {
            "text/plain": [
              "ResNet(\n",
              "  (conv1): Conv2d(3, 64, kernel_size=(7, 7), stride=(2, 2), padding=(3, 3), bias=False)\n",
              "  (bn1): BatchNorm2d(64, eps=1e-05, momentum=0.1, affine=True, track_running_stats=True)\n",
              "  (relu): ReLU(inplace=True)\n",
              "  (maxpool): MaxPool2d(kernel_size=3, stride=2, padding=1, dilation=1, ceil_mode=False)\n",
              "  (layer1): Sequential(\n",
              "    (0): BasicBlock(\n",
              "      (conv1): Conv2d(64, 64, kernel_size=(3, 3), stride=(1, 1), padding=(1, 1), bias=False)\n",
              "      (bn1): BatchNorm2d(64, eps=1e-05, momentum=0.1, affine=True, track_running_stats=True)\n",
              "      (relu): ReLU(inplace=True)\n",
              "      (conv2): Conv2d(64, 64, kernel_size=(3, 3), stride=(1, 1), padding=(1, 1), bias=False)\n",
              "      (bn2): BatchNorm2d(64, eps=1e-05, momentum=0.1, affine=True, track_running_stats=True)\n",
              "    )\n",
              "    (1): BasicBlock(\n",
              "      (conv1): Conv2d(64, 64, kernel_size=(3, 3), stride=(1, 1), padding=(1, 1), bias=False)\n",
              "      (bn1): BatchNorm2d(64, eps=1e-05, momentum=0.1, affine=True, track_running_stats=True)\n",
              "      (relu): ReLU(inplace=True)\n",
              "      (conv2): Conv2d(64, 64, kernel_size=(3, 3), stride=(1, 1), padding=(1, 1), bias=False)\n",
              "      (bn2): BatchNorm2d(64, eps=1e-05, momentum=0.1, affine=True, track_running_stats=True)\n",
              "    )\n",
              "  )\n",
              "  (layer2): Sequential(\n",
              "    (0): BasicBlock(\n",
              "      (conv1): Conv2d(64, 128, kernel_size=(3, 3), stride=(2, 2), padding=(1, 1), bias=False)\n",
              "      (bn1): BatchNorm2d(128, eps=1e-05, momentum=0.1, affine=True, track_running_stats=True)\n",
              "      (relu): ReLU(inplace=True)\n",
              "      (conv2): Conv2d(128, 128, kernel_size=(3, 3), stride=(1, 1), padding=(1, 1), bias=False)\n",
              "      (bn2): BatchNorm2d(128, eps=1e-05, momentum=0.1, affine=True, track_running_stats=True)\n",
              "      (downsample): Sequential(\n",
              "        (0): Conv2d(64, 128, kernel_size=(1, 1), stride=(2, 2), bias=False)\n",
              "        (1): BatchNorm2d(128, eps=1e-05, momentum=0.1, affine=True, track_running_stats=True)\n",
              "      )\n",
              "    )\n",
              "    (1): BasicBlock(\n",
              "      (conv1): Conv2d(128, 128, kernel_size=(3, 3), stride=(1, 1), padding=(1, 1), bias=False)\n",
              "      (bn1): BatchNorm2d(128, eps=1e-05, momentum=0.1, affine=True, track_running_stats=True)\n",
              "      (relu): ReLU(inplace=True)\n",
              "      (conv2): Conv2d(128, 128, kernel_size=(3, 3), stride=(1, 1), padding=(1, 1), bias=False)\n",
              "      (bn2): BatchNorm2d(128, eps=1e-05, momentum=0.1, affine=True, track_running_stats=True)\n",
              "    )\n",
              "  )\n",
              "  (layer3): Sequential(\n",
              "    (0): BasicBlock(\n",
              "      (conv1): Conv2d(128, 256, kernel_size=(3, 3), stride=(2, 2), padding=(1, 1), bias=False)\n",
              "      (bn1): BatchNorm2d(256, eps=1e-05, momentum=0.1, affine=True, track_running_stats=True)\n",
              "      (relu): ReLU(inplace=True)\n",
              "      (conv2): Conv2d(256, 256, kernel_size=(3, 3), stride=(1, 1), padding=(1, 1), bias=False)\n",
              "      (bn2): BatchNorm2d(256, eps=1e-05, momentum=0.1, affine=True, track_running_stats=True)\n",
              "      (downsample): Sequential(\n",
              "        (0): Conv2d(128, 256, kernel_size=(1, 1), stride=(2, 2), bias=False)\n",
              "        (1): BatchNorm2d(256, eps=1e-05, momentum=0.1, affine=True, track_running_stats=True)\n",
              "      )\n",
              "    )\n",
              "    (1): BasicBlock(\n",
              "      (conv1): Conv2d(256, 256, kernel_size=(3, 3), stride=(1, 1), padding=(1, 1), bias=False)\n",
              "      (bn1): BatchNorm2d(256, eps=1e-05, momentum=0.1, affine=True, track_running_stats=True)\n",
              "      (relu): ReLU(inplace=True)\n",
              "      (conv2): Conv2d(256, 256, kernel_size=(3, 3), stride=(1, 1), padding=(1, 1), bias=False)\n",
              "      (bn2): BatchNorm2d(256, eps=1e-05, momentum=0.1, affine=True, track_running_stats=True)\n",
              "    )\n",
              "  )\n",
              "  (layer4): Sequential(\n",
              "    (0): BasicBlock(\n",
              "      (conv1): Conv2d(256, 512, kernel_size=(3, 3), stride=(2, 2), padding=(1, 1), bias=False)\n",
              "      (bn1): BatchNorm2d(512, eps=1e-05, momentum=0.1, affine=True, track_running_stats=True)\n",
              "      (relu): ReLU(inplace=True)\n",
              "      (conv2): Conv2d(512, 512, kernel_size=(3, 3), stride=(1, 1), padding=(1, 1), bias=False)\n",
              "      (bn2): BatchNorm2d(512, eps=1e-05, momentum=0.1, affine=True, track_running_stats=True)\n",
              "      (downsample): Sequential(\n",
              "        (0): Conv2d(256, 512, kernel_size=(1, 1), stride=(2, 2), bias=False)\n",
              "        (1): BatchNorm2d(512, eps=1e-05, momentum=0.1, affine=True, track_running_stats=True)\n",
              "      )\n",
              "    )\n",
              "    (1): BasicBlock(\n",
              "      (conv1): Conv2d(512, 512, kernel_size=(3, 3), stride=(1, 1), padding=(1, 1), bias=False)\n",
              "      (bn1): BatchNorm2d(512, eps=1e-05, momentum=0.1, affine=True, track_running_stats=True)\n",
              "      (relu): ReLU(inplace=True)\n",
              "      (conv2): Conv2d(512, 512, kernel_size=(3, 3), stride=(1, 1), padding=(1, 1), bias=False)\n",
              "      (bn2): BatchNorm2d(512, eps=1e-05, momentum=0.1, affine=True, track_running_stats=True)\n",
              "    )\n",
              "  )\n",
              "  (avgpool): AdaptiveAvgPool2d(output_size=(1, 1))\n",
              "  (fc): Linear(in_features=512, out_features=2, bias=True)\n",
              ")"
            ]
          },
          "metadata": {
            "tags": []
          },
          "execution_count": 18
        }
      ]
    },
    {
      "cell_type": "markdown",
      "metadata": {
        "id": "7hBxc65XMq5Q",
        "colab_type": "text"
      },
      "source": [
        "# История изменений функции потерь при обучении"
      ]
    },
    {
      "cell_type": "code",
      "metadata": {
        "id": "vrsUjlAOc0iO",
        "colab_type": "code",
        "colab": {
          "base_uri": "https://localhost:8080/",
          "height": 282
        },
        "outputId": "febf13f9-d0d6-4cfc-c845-f71b3731cd93"
      },
      "source": [
        "sns.lineplot(range(len(history['train_loss'])), history['train_loss'], label='train')\n",
        "sns.lineplot(range(len(history['test_loss'])), history['test_loss'], label='test')\n",
        "\n",
        "np.mean(history['test_loss'])"
      ],
      "execution_count": 19,
      "outputs": [
        {
          "output_type": "execute_result",
          "data": {
            "text/plain": [
              "0.0798340051057505"
            ]
          },
          "metadata": {
            "tags": []
          },
          "execution_count": 19
        },
        {
          "output_type": "display_data",
          "data": {
            "image/png": "[encoded data removed]",
            "text/plain": [
              "<Figure size 432x288 with 1 Axes>"
            ]
          },
          "metadata": {
            "tags": [],
            "needs_background": "light"
          }
        }
      ]
    },
    {
      "cell_type": "markdown",
      "metadata": {
        "id": "TWMHGGTfM0PY",
        "colab_type": "text"
      },
      "source": [
        "# История изменений значения метрики accuracy при обучении"
      ]
    },
    {
      "cell_type": "code",
      "metadata": {
        "id": "ffZdKL1ac0iQ",
        "colab_type": "code",
        "colab": {
          "base_uri": "https://localhost:8080/",
          "height": 282
        },
        "outputId": "b9e971aa-f397-480a-a245-6a9d1d74a1f6"
      },
      "source": [
        "sns.lineplot(range(len(history['train_acc'])), [x.item() for x in history['train_acc']], label='train')\n",
        "sns.lineplot(range(len(history['test_acc'])), [x.item() for x in history['test_acc']], label='test')\n",
        "\n",
        "np.mean([x.item() for x in history['test_acc']])"
      ],
      "execution_count": 20,
      "outputs": [
        {
          "output_type": "execute_result",
          "data": {
            "text/plain": [
              "0.9736401929574854"
            ]
          },
          "metadata": {
            "tags": []
          },
          "execution_count": 20
        },
        {
          "output_type": "display_data",
          "data": {
            "image/png": "[encoded data removed]",
            "text/plain": [
              "<Figure size 432x288 with 1 Axes>"
            ]
          },
          "metadata": {
            "tags": [],
            "needs_background": "light"
          }
        }
      ]
    },
    {
      "cell_type": "markdown",
      "metadata": {
        "id": "rD9alNH9M88c",
        "colab_type": "text"
      },
      "source": [
        "# Отчет по другим метрикам"
      ]
    },
    {
      "cell_type": "code",
      "metadata": {
        "id": "1RDsHvT6Cdp5",
        "colab_type": "code",
        "colab": {}
      },
      "source": [
        "predictions = torch.zeros(1)\n",
        "trues = torch.zeros(1)\n",
        "\n",
        "for batch, labels in test_dataloader:    \n",
        "    predictions = torch.cat((predictions.to(device), finish_model(batch.to(device)).argmax(dim=1)))\n",
        "    trues = torch.cat((trues, labels))"
      ],
      "execution_count": 21,
      "outputs": []
    },
    {
      "cell_type": "code",
      "metadata": {
        "id": "SaKyqOb-Km_k",
        "colab_type": "code",
        "colab": {
          "base_uri": "https://localhost:8080/",
          "height": 170
        },
        "outputId": "5bdcea8f-a615-4889-c2e3-48490c5e7dda"
      },
      "source": [
        "print(classification_report(trues[1:], predictions[1:].cpu(), target_names=['female', 'male']))"
      ],
      "execution_count": 22,
      "outputs": [
        {
          "output_type": "stream",
          "text": [
            "              precision    recall  f1-score   support\n",
            "\n",
            "      female       0.98      0.98      0.98      4990\n",
            "        male       0.98      0.98      0.98      4994\n",
            "\n",
            "    accuracy                           0.98      9984\n",
            "   macro avg       0.98      0.98      0.98      9984\n",
            "weighted avg       0.98      0.98      0.98      9984\n",
            "\n"
          ],
          "name": "stdout"
        }
      ]
    }
  ]
}